{
  "cells": [
    {
      "cell_type": "markdown",
      "metadata": {
        "id": "view-in-github",
        "colab_type": "text"
      },
      "source": [
        "<a href=\"https://colab.research.google.com/github/AbdullahHassan176/FinGanFlow/blob/main/Implementation_of_GAN_for_beginners.ipynb\" target=\"_parent\"><img src=\"https://colab.research.google.com/assets/colab-badge.svg\" alt=\"Open In Colab\"/></a>"
      ]
    },
    {
      "metadata": {
        "id": "Ol-kCTdZ-rpS"
      },
      "cell_type": "markdown",
      "source": [
        "# Implementation of GAN for beginners.\n",
        "\n",
        "**generative adversarial networks (GANs)** are able to learn how to reproduce synthetic data that looks real. GANs is ***the most interesting idea in the last 10 years in ML,*** by Yann LeCun, one of the fathers of deep learning.\n",
        "In this notebook, we will going to train a GAN to reproduce our dataset.\n",
        "To facilitate understanding, i chose to do simple with the dataset. So i choose to create a dataset by generating random numbers following normal law. Thus, we can change the parameter(`maen` and `stddev`) of this low to observe the impact on the GAN learning and for more fun.\n",
        "GAN is not only for image data. We will going to train GAN on simple numerical one dimension data.\n",
        "\n",
        "For more understanding of GAN concept, please visit this notebook https://www.kaggle.com/roblexnana/understanding-generative-models-gan\n",
        "\n",
        "### Table of interest:\n",
        "1. Create our dataset.\n",
        "2. Define our generator and our disciminator.\n",
        "3. Define our losses functions.\n",
        "4. Define the optimizers and the train operations.\n",
        "5. Training and visualization of results.\n",
        "\n",
        "Let's get started."
      ]
    },
    {
      "metadata": {
        "trusted": true,
        "id": "sRKYueUX-rpU"
      },
      "cell_type": "code",
      "source": [
        "import tensorflow as tf\n",
        "from tensorflow.keras.layers import Input, Dense\n",
        "from tensorflow.keras import Model\n",
        "\n",
        "import matplotlib.pyplot as plt\n"
      ],
      "execution_count": 1,
      "outputs": []
    },
    {
      "metadata": {
        "id": "29dCxYcB-rpW"
      },
      "cell_type": "markdown",
      "source": [
        "## 1. Create our dataset."
      ]
    },
    {
      "metadata": {
        "trusted": true,
        "id": "hLMVAivd-rpW",
        "outputId": "be1d2e9e-a336-4355-faf4-f8f7989a006d",
        "colab": {
          "base_uri": "https://localhost:8080/",
          "height": 435
        }
      },
      "cell_type": "code",
      "source": [
        "# fonction to generate our dataset\n",
        "def sample_dataset():\n",
        "    dataset_shape = (2000, 1)\n",
        "    return tf.random.normal(mean=8., shape=dataset_shape, stddev=0.5, dtype=tf.float32)\n",
        "\n",
        "# visualize our data with histogram\n",
        "plt.hist(sample_dataset().numpy(), 100)\n",
        "axes = plt.gca()\n",
        "axes.set_xlim([-1,11])\n",
        "axes.set_ylim([0, 70])\n",
        "plt.show()\n"
      ],
      "execution_count": 2,
      "outputs": [
        {
          "output_type": "display_data",
          "data": {
            "text/plain": [
              "<Figure size 640x480 with 1 Axes>"
            ],
            "image/png": "[encoded data removed]"
          },
          "metadata": {}
        }
      ]
    },
    {
      "metadata": {
        "id": "kHG0w1t9-rpW"
      },
      "cell_type": "markdown",
      "source": [
        "## 2. Define our generator and our disciminator."
      ]
    },
    {
      "metadata": {
        "trusted": true,
        "id": "LP6uNEg5-rpW"
      },
      "cell_type": "code",
      "source": [
        "def generator(input_shape):\n",
        "    \"\"\"Defines the generator keras.Model.\n",
        "    Args:\n",
        "        input_shape: the desired input shape (e.g.: (latent_space_size))\n",
        "    Returns:\n",
        "        G: The generator model\n",
        "    \"\"\"\n",
        "    inputs = Input(input_shape)\n",
        "    net = Dense(units=64, activation=tf.nn.elu, name=\"fc1\")(inputs)\n",
        "    net = Dense(units=64, activation=tf.nn.elu, name=\"fc2\")(net)\n",
        "    net = Dense(units=1, name=\"G\")(net)\n",
        "    G = Model(inputs=inputs, outputs=net)\n",
        "    return G\n",
        "\n",
        "def disciminator(input_shape):\n",
        "    \"\"\"Defines the Discriminator keras.Model.\n",
        "    Args:\n",
        "        input_shape: the desired input shape (e.g.: (the generator output shape))\n",
        "    Returns:\n",
        "        D: the Discriminator model\n",
        "    \"\"\"\n",
        "    inputs = Input(input_shape)\n",
        "    net = Dense(units=32, activation=tf.nn.elu, name=\"fc1\")(inputs)\n",
        "    net = Dense(units=1, name=\"D\")(net)\n",
        "    D = Model(inputs=inputs, outputs=net)\n",
        "    return D\n"
      ],
      "execution_count": 3,
      "outputs": []
    },
    {
      "metadata": {
        "trusted": true,
        "id": "3ZtrHatM-rpX"
      },
      "cell_type": "code",
      "source": [
        "# Define the real input shape\n",
        "input_shape = (1,)\n",
        "\n",
        "# Define the Discriminator model\n",
        "D = disciminator(input_shape)\n",
        "\n",
        "# Arbitrary set the shape of the noise prior\n",
        "latent_space_shape = (100,)\n",
        "# Define the input noise shape and define the generator\n",
        "G = generator(latent_space_shape)\n"
      ],
      "execution_count": 4,
      "outputs": []
    },
    {
      "metadata": {
        "id": "HBM6rxFP-rpX"
      },
      "cell_type": "markdown",
      "source": [
        "## 3. Define our losses functions"
      ]
    },
    {
      "metadata": {
        "trusted": true,
        "id": "gGxZt36O-rpX"
      },
      "cell_type": "code",
      "source": [
        "# Define the losses fonctions to optimize\n",
        "bce = tf.keras.losses.BinaryCrossentropy(from_logits=True)\n",
        "\n",
        "# Distriminator loss foction\n",
        "def d_loss(d_real, d_fake):\n",
        "    \"\"\"The disciminator loss function.\"\"\"\n",
        "    return bce(tf.ones_like(d_real), d_real) + bce(tf.zeros_like(d_fake), d_fake)\n",
        "# Generator loss fonction\n",
        "def g_loss(generated_output):\n",
        "    \"\"\"The Generator loss function.\"\"\"\n",
        "    return bce(tf.ones_like(generated_output), generated_output)\n"
      ],
      "execution_count": 5,
      "outputs": []
    },
    {
      "metadata": {
        "id": "-rjcFuqn-rpY"
      },
      "cell_type": "markdown",
      "source": [
        "## 4. Define the optimizers and the train operations."
      ]
    },
    {
      "metadata": {
        "trusted": true,
        "id": "uLIZyRx5-rpY"
      },
      "cell_type": "code",
      "source": [
        "\n",
        "# Define the optimizers and the train operations\n",
        "optimizer = tf.keras.optimizers.Adam(1e-5)\n",
        "\n",
        "@tf.function\n",
        "def train_step():\n",
        "    with tf.GradientTape(persistent=True) as tape:\n",
        "        real_data = sample_dataset()\n",
        "        noise_vector = tf.random.normal(\n",
        "            mean=0, stddev=1,\n",
        "            shape=(real_data.shape[0], latent_space_shape[0]))\n",
        "        # Sample from the Generator\n",
        "        fake_data = G(noise_vector)\n",
        "        # Compute the D loss\n",
        "        d_fake_data = D(fake_data)\n",
        "        d_real_data = D(real_data)\n",
        "        d_loss_value = d_loss(d_real_data, d_fake_data)\n",
        "        # Compute the G loss\n",
        "        g_loss_value = g_loss(d_fake_data)\n",
        "    # Now that we comptuted the losses we can compute the gradient\n",
        "    # and optimize the networks\n",
        "    d_gradients = tape.gradient(d_loss_value, D.trainable_variables)\n",
        "    g_gradients = tape.gradient(g_loss_value, G.trainable_variables)\n",
        "    # Deletng the tape, since we defined it as persistent\n",
        "    # (because we used it twice)\n",
        "    del tape\n",
        "    optimizer.apply_gradients(zip(d_gradients, D.trainable_variables))\n",
        "    optimizer.apply_gradients(zip(g_gradients, G.trainable_variables))\n",
        "    return real_data, fake_data, g_loss_value, d_loss_value\n"
      ],
      "execution_count": 6,
      "outputs": []
    },
    {
      "metadata": {
        "id": "Y-u8TeOL-rpY"
      },
      "cell_type": "markdown",
      "source": [
        "## 5. Training and visualization of results."
      ]
    },
    {
      "metadata": {
        "trusted": true,
        "id": "PhnRmiMz-rpY",
        "outputId": "feaf34d1-8a87-42ca-f434-8a76e4e663e7",
        "colab": {
          "base_uri": "https://localhost:8080/",
          "height": 982
        }
      },
      "cell_type": "code",
      "source": [
        "fig, ax = plt.subplots()\n",
        "for step in range(30000):\n",
        "    real_data, fake_data, g_loss_value, d_loss_value = train_step()\n",
        "    if step % 2000 == 0:\n",
        "        print(\"G loss: \", g_loss_value.numpy(), \" D loss: \", d_loss_value.numpy(), \" step: \", step)\n",
        "\n",
        "        # Sample 5000 values from the Generator and draw the histogram\n",
        "        ax.hist(fake_data.numpy(), 100)\n",
        "        ax.hist(real_data.numpy(), 100)\n",
        "        # these are matplotlib.patch.Patch properties\n",
        "        props = dict(boxstyle='round', facecolor='wheat', alpha=0.5)\n",
        "\n",
        "        # place a text box in upper left in axes coords\n",
        "        textstr = f\"step={step}\"\n",
        "        ax.text(0.05, 0.95, textstr, transform=ax.transAxes, fontsize=14,\n",
        "                verticalalignment='top', bbox=props)\n",
        "\n",
        "        axes = plt.gca()\n",
        "        axes.set_xlim([-1,11])\n",
        "        axes.set_ylim([0, 60])\n",
        "        display(plt.gcf())\n",
        "        plt.gca().clear()"
      ],
      "execution_count": 7,
      "outputs": [
        {
          "output_type": "error",
          "ename": "ValueError",
          "evalue": "in user code:\n\n    File \"<ipython-input-6-43c8ca57cd37>\", line 27, in train_step  *\n        optimizer.apply_gradients(zip(g_gradients, G.trainable_variables))\n    File \"/usr/local/lib/python3.10/dist-packages/keras/src/optimizers/base_optimizer.py\", line 282, in apply_gradients  **\n        self.apply(grads, trainable_variables)\n    File \"/usr/local/lib/python3.10/dist-packages/keras/src/optimizers/base_optimizer.py\", line 323, in apply\n        self._check_variables_are_known(trainable_variables)\n    File \"/usr/local/lib/python3.10/dist-packages/keras/src/optimizers/base_optimizer.py\", line 228, in _check_variables_are_known\n        raise ValueError(\n\n    ValueError: Unknown variable: <KerasVariable shape=(100, 64), dtype=float32, path=fc1/kernel>. This optimizer can only be called for the variables it was originally built with. When working with a new set of variables, you should recreate a new optimizer instance.\n",
          "traceback": [
            "\u001b[0;31m---------------------------------------------------------------------------\u001b[0m",
            "\u001b[0;31mValueError\u001b[0m                                Traceback (most recent call last)",
            "\u001b[0;32m<ipython-input-7-2540d95989a7>\u001b[0m in \u001b[0;36m<cell line: 2>\u001b[0;34m()\u001b[0m\n\u001b[1;32m      1\u001b[0m \u001b[0mfig\u001b[0m\u001b[0;34m,\u001b[0m \u001b[0max\u001b[0m \u001b[0;34m=\u001b[0m \u001b[0mplt\u001b[0m\u001b[0;34m.\u001b[0m\u001b[0msubplots\u001b[0m\u001b[0;34m(\u001b[0m\u001b[0;34m)\u001b[0m\u001b[0;34m\u001b[0m\u001b[0;34m\u001b[0m\u001b[0m\n\u001b[1;32m      2\u001b[0m \u001b[0;32mfor\u001b[0m \u001b[0mstep\u001b[0m \u001b[0;32min\u001b[0m \u001b[0mrange\u001b[0m\u001b[0;34m(\u001b[0m\u001b[0;36m30000\u001b[0m\u001b[0;34m)\u001b[0m\u001b[0;34m:\u001b[0m\u001b[0;34m\u001b[0m\u001b[0;34m\u001b[0m\u001b[0m\n\u001b[0;32m----> 3\u001b[0;31m     \u001b[0mreal_data\u001b[0m\u001b[0;34m,\u001b[0m \u001b[0mfake_data\u001b[0m\u001b[0;34m,\u001b[0m \u001b[0mg_loss_value\u001b[0m\u001b[0;34m,\u001b[0m \u001b[0md_loss_value\u001b[0m \u001b[0;34m=\u001b[0m \u001b[0mtrain_step\u001b[0m\u001b[0;34m(\u001b[0m\u001b[0;34m)\u001b[0m\u001b[0;34m\u001b[0m\u001b[0;34m\u001b[0m\u001b[0m\n\u001b[0m\u001b[1;32m      4\u001b[0m     \u001b[0;32mif\u001b[0m \u001b[0mstep\u001b[0m \u001b[0;34m%\u001b[0m \u001b[0;36m2000\u001b[0m \u001b[0;34m==\u001b[0m \u001b[0;36m0\u001b[0m\u001b[0;34m:\u001b[0m\u001b[0;34m\u001b[0m\u001b[0;34m\u001b[0m\u001b[0m\n\u001b[1;32m      5\u001b[0m         \u001b[0mprint\u001b[0m\u001b[0;34m(\u001b[0m\u001b[0;34m\"G loss: \"\u001b[0m\u001b[0;34m,\u001b[0m \u001b[0mg_loss_value\u001b[0m\u001b[0;34m.\u001b[0m\u001b[0mnumpy\u001b[0m\u001b[0;34m(\u001b[0m\u001b[0;34m)\u001b[0m\u001b[0;34m,\u001b[0m \u001b[0;34m\" D loss: \"\u001b[0m\u001b[0;34m,\u001b[0m \u001b[0md_loss_value\u001b[0m\u001b[0;34m.\u001b[0m\u001b[0mnumpy\u001b[0m\u001b[0;34m(\u001b[0m\u001b[0;34m)\u001b[0m\u001b[0;34m,\u001b[0m \u001b[0;34m\" step: \"\u001b[0m\u001b[0;34m,\u001b[0m \u001b[0mstep\u001b[0m\u001b[0;34m)\u001b[0m\u001b[0;34m\u001b[0m\u001b[0;34m\u001b[0m\u001b[0m\n",
            "\u001b[0;32m/usr/local/lib/python3.10/dist-packages/tensorflow/python/util/traceback_utils.py\u001b[0m in \u001b[0;36merror_handler\u001b[0;34m(*args, **kwargs)\u001b[0m\n\u001b[1;32m    151\u001b[0m     \u001b[0;32mexcept\u001b[0m \u001b[0mException\u001b[0m \u001b[0;32mas\u001b[0m \u001b[0me\u001b[0m\u001b[0;34m:\u001b[0m\u001b[0;34m\u001b[0m\u001b[0;34m\u001b[0m\u001b[0m\n\u001b[1;32m    152\u001b[0m       \u001b[0mfiltered_tb\u001b[0m \u001b[0;34m=\u001b[0m \u001b[0m_process_traceback_frames\u001b[0m\u001b[0;34m(\u001b[0m\u001b[0me\u001b[0m\u001b[0;34m.\u001b[0m\u001b[0m__traceback__\u001b[0m\u001b[0;34m)\u001b[0m\u001b[0;34m\u001b[0m\u001b[0;34m\u001b[0m\u001b[0m\n\u001b[0;32m--> 153\u001b[0;31m       \u001b[0;32mraise\u001b[0m \u001b[0me\u001b[0m\u001b[0;34m.\u001b[0m\u001b[0mwith_traceback\u001b[0m\u001b[0;34m(\u001b[0m\u001b[0mfiltered_tb\u001b[0m\u001b[0;34m)\u001b[0m \u001b[0;32mfrom\u001b[0m \u001b[0;32mNone\u001b[0m\u001b[0;34m\u001b[0m\u001b[0;34m\u001b[0m\u001b[0m\n\u001b[0m\u001b[1;32m    154\u001b[0m     \u001b[0;32mfinally\u001b[0m\u001b[0;34m:\u001b[0m\u001b[0;34m\u001b[0m\u001b[0;34m\u001b[0m\u001b[0m\n\u001b[1;32m    155\u001b[0m       \u001b[0;32mdel\u001b[0m \u001b[0mfiltered_tb\u001b[0m\u001b[0;34m\u001b[0m\u001b[0;34m\u001b[0m\u001b[0m\n",
            "\u001b[0;32m/tmp/__autograph_generated_fileij6kzzwv.py\u001b[0m in \u001b[0;36mtf__train_step\u001b[0;34m()\u001b[0m\n\u001b[1;32m     20\u001b[0m                 \u001b[0mtape\u001b[0m \u001b[0;34m=\u001b[0m \u001b[0mag__\u001b[0m\u001b[0;34m.\u001b[0m\u001b[0mUndefined\u001b[0m\u001b[0;34m(\u001b[0m\u001b[0;34m'tape'\u001b[0m\u001b[0;34m)\u001b[0m\u001b[0;34m\u001b[0m\u001b[0;34m\u001b[0m\u001b[0m\n\u001b[1;32m     21\u001b[0m                 \u001b[0mag__\u001b[0m\u001b[0;34m.\u001b[0m\u001b[0mconverted_call\u001b[0m\u001b[0;34m(\u001b[0m\u001b[0mag__\u001b[0m\u001b[0;34m.\u001b[0m\u001b[0mld\u001b[0m\u001b[0;34m(\u001b[0m\u001b[0moptimizer\u001b[0m\u001b[0;34m)\u001b[0m\u001b[0;34m.\u001b[0m\u001b[0mapply_gradients\u001b[0m\u001b[0;34m,\u001b[0m \u001b[0;34m(\u001b[0m\u001b[0mag__\u001b[0m\u001b[0;34m.\u001b[0m\u001b[0mconverted_call\u001b[0m\u001b[0;34m(\u001b[0m\u001b[0mag__\u001b[0m\u001b[0;34m.\u001b[0m\u001b[0mld\u001b[0m\u001b[0;34m(\u001b[0m\u001b[0mzip\u001b[0m\u001b[0;34m)\u001b[0m\u001b[0;34m,\u001b[0m \u001b[0;34m(\u001b[0m\u001b[0mag__\u001b[0m\u001b[0;34m.\u001b[0m\u001b[0mld\u001b[0m\u001b[0;34m(\u001b[0m\u001b[0md_gradients\u001b[0m\u001b[0;34m)\u001b[0m\u001b[0;34m,\u001b[0m \u001b[0mag__\u001b[0m\u001b[0;34m.\u001b[0m\u001b[0mld\u001b[0m\u001b[0;34m(\u001b[0m\u001b[0mD\u001b[0m\u001b[0;34m)\u001b[0m\u001b[0;34m.\u001b[0m\u001b[0mtrainable_variables\u001b[0m\u001b[0;34m)\u001b[0m\u001b[0;34m,\u001b[0m \u001b[0;32mNone\u001b[0m\u001b[0;34m,\u001b[0m \u001b[0mfscope\u001b[0m\u001b[0;34m)\u001b[0m\u001b[0;34m,\u001b[0m\u001b[0;34m)\u001b[0m\u001b[0;34m,\u001b[0m \u001b[0;32mNone\u001b[0m\u001b[0;34m,\u001b[0m \u001b[0mfscope\u001b[0m\u001b[0;34m)\u001b[0m\u001b[0;34m\u001b[0m\u001b[0;34m\u001b[0m\u001b[0m\n\u001b[0;32m---> 22\u001b[0;31m                 \u001b[0mag__\u001b[0m\u001b[0;34m.\u001b[0m\u001b[0mconverted_call\u001b[0m\u001b[0;34m(\u001b[0m\u001b[0mag__\u001b[0m\u001b[0;34m.\u001b[0m\u001b[0mld\u001b[0m\u001b[0;34m(\u001b[0m\u001b[0moptimizer\u001b[0m\u001b[0;34m)\u001b[0m\u001b[0;34m.\u001b[0m\u001b[0mapply_gradients\u001b[0m\u001b[0;34m,\u001b[0m \u001b[0;34m(\u001b[0m\u001b[0mag__\u001b[0m\u001b[0;34m.\u001b[0m\u001b[0mconverted_call\u001b[0m\u001b[0;34m(\u001b[0m\u001b[0mag__\u001b[0m\u001b[0;34m.\u001b[0m\u001b[0mld\u001b[0m\u001b[0;34m(\u001b[0m\u001b[0mzip\u001b[0m\u001b[0;34m)\u001b[0m\u001b[0;34m,\u001b[0m \u001b[0;34m(\u001b[0m\u001b[0mag__\u001b[0m\u001b[0;34m.\u001b[0m\u001b[0mld\u001b[0m\u001b[0;34m(\u001b[0m\u001b[0mg_gradients\u001b[0m\u001b[0;34m)\u001b[0m\u001b[0;34m,\u001b[0m \u001b[0mag__\u001b[0m\u001b[0;34m.\u001b[0m\u001b[0mld\u001b[0m\u001b[0;34m(\u001b[0m\u001b[0mG\u001b[0m\u001b[0;34m)\u001b[0m\u001b[0;34m.\u001b[0m\u001b[0mtrainable_variables\u001b[0m\u001b[0;34m)\u001b[0m\u001b[0;34m,\u001b[0m \u001b[0;32mNone\u001b[0m\u001b[0;34m,\u001b[0m \u001b[0mfscope\u001b[0m\u001b[0;34m)\u001b[0m\u001b[0;34m,\u001b[0m\u001b[0;34m)\u001b[0m\u001b[0;34m,\u001b[0m \u001b[0;32mNone\u001b[0m\u001b[0;34m,\u001b[0m \u001b[0mfscope\u001b[0m\u001b[0;34m)\u001b[0m\u001b[0;34m\u001b[0m\u001b[0;34m\u001b[0m\u001b[0m\n\u001b[0m\u001b[1;32m     23\u001b[0m                 \u001b[0;32mtry\u001b[0m\u001b[0;34m:\u001b[0m\u001b[0;34m\u001b[0m\u001b[0;34m\u001b[0m\u001b[0m\n\u001b[1;32m     24\u001b[0m                     \u001b[0mdo_return\u001b[0m \u001b[0;34m=\u001b[0m \u001b[0;32mTrue\u001b[0m\u001b[0;34m\u001b[0m\u001b[0;34m\u001b[0m\u001b[0m\n",
            "\u001b[0;32m/usr/local/lib/python3.10/dist-packages/keras/src/optimizers/base_optimizer.py\u001b[0m in \u001b[0;36mapply_gradients\u001b[0;34m(self, grads_and_vars)\u001b[0m\n\u001b[1;32m    280\u001b[0m     \u001b[0;32mdef\u001b[0m \u001b[0mapply_gradients\u001b[0m\u001b[0;34m(\u001b[0m\u001b[0mself\u001b[0m\u001b[0;34m,\u001b[0m \u001b[0mgrads_and_vars\u001b[0m\u001b[0;34m)\u001b[0m\u001b[0;34m:\u001b[0m\u001b[0;34m\u001b[0m\u001b[0;34m\u001b[0m\u001b[0m\n\u001b[1;32m    281\u001b[0m         \u001b[0mgrads\u001b[0m\u001b[0;34m,\u001b[0m \u001b[0mtrainable_variables\u001b[0m \u001b[0;34m=\u001b[0m \u001b[0mzip\u001b[0m\u001b[0;34m(\u001b[0m\u001b[0;34m*\u001b[0m\u001b[0mgrads_and_vars\u001b[0m\u001b[0;34m)\u001b[0m\u001b[0;34m\u001b[0m\u001b[0;34m\u001b[0m\u001b[0m\n\u001b[0;32m--> 282\u001b[0;31m         \u001b[0mself\u001b[0m\u001b[0;34m.\u001b[0m\u001b[0mapply\u001b[0m\u001b[0;34m(\u001b[0m\u001b[0mgrads\u001b[0m\u001b[0;34m,\u001b[0m \u001b[0mtrainable_variables\u001b[0m\u001b[0;34m)\u001b[0m\u001b[0;34m\u001b[0m\u001b[0;34m\u001b[0m\u001b[0m\n\u001b[0m\u001b[1;32m    283\u001b[0m         \u001b[0;31m# Return iterations for compat with tf.keras.\u001b[0m\u001b[0;34m\u001b[0m\u001b[0;34m\u001b[0m\u001b[0m\n\u001b[1;32m    284\u001b[0m         \u001b[0;32mreturn\u001b[0m \u001b[0mself\u001b[0m\u001b[0;34m.\u001b[0m\u001b[0miterations\u001b[0m\u001b[0;34m\u001b[0m\u001b[0;34m\u001b[0m\u001b[0m\n",
            "\u001b[0;32m/usr/local/lib/python3.10/dist-packages/keras/src/optimizers/base_optimizer.py\u001b[0m in \u001b[0;36mapply\u001b[0;34m(self, grads, trainable_variables)\u001b[0m\n\u001b[1;32m    321\u001b[0m                     \u001b[0mself\u001b[0m\u001b[0;34m.\u001b[0m\u001b[0mbuild\u001b[0m\u001b[0;34m(\u001b[0m\u001b[0mtrainable_variables\u001b[0m\u001b[0;34m)\u001b[0m\u001b[0;34m\u001b[0m\u001b[0;34m\u001b[0m\u001b[0m\n\u001b[1;32m    322\u001b[0m                 \u001b[0mself\u001b[0m\u001b[0;34m.\u001b[0m\u001b[0mbuilt\u001b[0m \u001b[0;34m=\u001b[0m \u001b[0;32mTrue\u001b[0m\u001b[0;34m\u001b[0m\u001b[0;34m\u001b[0m\u001b[0m\n\u001b[0;32m--> 323\u001b[0;31m             \u001b[0mself\u001b[0m\u001b[0;34m.\u001b[0m\u001b[0m_check_variables_are_known\u001b[0m\u001b[0;34m(\u001b[0m\u001b[0mtrainable_variables\u001b[0m\u001b[0;34m)\u001b[0m\u001b[0;34m\u001b[0m\u001b[0;34m\u001b[0m\u001b[0m\n\u001b[0m\u001b[1;32m    324\u001b[0m \u001b[0;34m\u001b[0m\u001b[0m\n\u001b[1;32m    325\u001b[0m         \u001b[0;32mwith\u001b[0m \u001b[0mbackend\u001b[0m\u001b[0;34m.\u001b[0m\u001b[0mname_scope\u001b[0m\u001b[0;34m(\u001b[0m\u001b[0mself\u001b[0m\u001b[0;34m.\u001b[0m\u001b[0mname\u001b[0m\u001b[0;34m,\u001b[0m \u001b[0mcaller\u001b[0m\u001b[0;34m=\u001b[0m\u001b[0mself\u001b[0m\u001b[0;34m)\u001b[0m\u001b[0;34m:\u001b[0m\u001b[0;34m\u001b[0m\u001b[0;34m\u001b[0m\u001b[0m\n",
            "\u001b[0;32m/usr/local/lib/python3.10/dist-packages/keras/src/optimizers/base_optimizer.py\u001b[0m in \u001b[0;36m_check_variables_are_known\u001b[0;34m(self, variables)\u001b[0m\n\u001b[1;32m    226\u001b[0m         \u001b[0;32mfor\u001b[0m \u001b[0mv\u001b[0m \u001b[0;32min\u001b[0m \u001b[0mvariables\u001b[0m\u001b[0;34m:\u001b[0m\u001b[0;34m\u001b[0m\u001b[0;34m\u001b[0m\u001b[0m\n\u001b[1;32m    227\u001b[0m             \u001b[0;32mif\u001b[0m \u001b[0mself\u001b[0m\u001b[0;34m.\u001b[0m\u001b[0m_var_key\u001b[0m\u001b[0;34m(\u001b[0m\u001b[0mv\u001b[0m\u001b[0;34m)\u001b[0m \u001b[0;32mnot\u001b[0m \u001b[0;32min\u001b[0m \u001b[0mself\u001b[0m\u001b[0;34m.\u001b[0m\u001b[0m_trainable_variables_indices\u001b[0m\u001b[0;34m:\u001b[0m\u001b[0;34m\u001b[0m\u001b[0;34m\u001b[0m\u001b[0m\n\u001b[0;32m--> 228\u001b[0;31m                 raise ValueError(\n\u001b[0m\u001b[1;32m    229\u001b[0m                     \u001b[0;34mf\"Unknown variable: {v}. This optimizer can only \"\u001b[0m\u001b[0;34m\u001b[0m\u001b[0;34m\u001b[0m\u001b[0m\n\u001b[1;32m    230\u001b[0m                     \u001b[0;34m\"be called for the variables it was originally built with. \"\u001b[0m\u001b[0;34m\u001b[0m\u001b[0;34m\u001b[0m\u001b[0m\n",
            "\u001b[0;31mValueError\u001b[0m: in user code:\n\n    File \"<ipython-input-6-43c8ca57cd37>\", line 27, in train_step  *\n        optimizer.apply_gradients(zip(g_gradients, G.trainable_variables))\n    File \"/usr/local/lib/python3.10/dist-packages/keras/src/optimizers/base_optimizer.py\", line 282, in apply_gradients  **\n        self.apply(grads, trainable_variables)\n    File \"/usr/local/lib/python3.10/dist-packages/keras/src/optimizers/base_optimizer.py\", line 323, in apply\n        self._check_variables_are_known(trainable_variables)\n    File \"/usr/local/lib/python3.10/dist-packages/keras/src/optimizers/base_optimizer.py\", line 228, in _check_variables_are_known\n        raise ValueError(\n\n    ValueError: Unknown variable: <KerasVariable shape=(100, 64), dtype=float32, path=fc1/kernel>. This optimizer can only be called for the variables it was originally built with. When working with a new set of variables, you should recreate a new optimizer instance.\n"
          ]
        },
        {
          "output_type": "display_data",
          "data": {
            "text/plain": [
              "<Figure size 640x480 with 1 Axes>"
            ],
            "image/png": "[encoded data removed]"
          },
          "metadata": {}
        }
      ]
    },
    {
      "metadata": {
        "id": "y_s8BO2U-rpY"
      },
      "cell_type": "markdown",
      "source": [
        "**Hope that you find this notebook helpful. More to come.**\n",
        "\n",
        "**Please upvote this, to keep me motivate for doing better.**\n",
        "\n",
        "**Thanks.**"
      ]
    }
  ],
  "metadata": {
    "kernelspec": {
      "display_name": "Python 3",
      "language": "python",
      "name": "python3"
    },
    "language_info": {
      "codemirror_mode": {
        "name": "ipython",
        "version": 3
      },
      "file_extension": ".py",
      "mimetype": "text/x-python",
      "name": "python",
      "nbconvert_exporter": "python",
      "pygments_lexer": "ipython3",
      "version": "3.7.5"
    },
    "colab": {
      "name": "Implementation of GAN for beginners",
      "provenance": [],
      "include_colab_link": true
    }
  },
  "nbformat": 4,
  "nbformat_minor": 0
}